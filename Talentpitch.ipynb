{
  "nbformat": 4,
  "nbformat_minor": 0,
  "metadata": {
    "colab": {
      "provenance": [],
      "authorship_tag": "ABX9TyPZmjx2JKsfnxHsjFq3eRm+",
      "include_colab_link": true
    },
    "kernelspec": {
      "name": "python3",
      "display_name": "Python 3"
    },
    "language_info": {
      "name": "python"
    }
  },
  "cells": [
    {
      "cell_type": "markdown",
      "metadata": {
        "id": "view-in-github",
        "colab_type": "text"
      },
      "source": [
        "<a href=\"https://colab.research.google.com/github/joseantbelloac/Talentpitch/blob/main/Talentpitch.ipynb\" target=\"_parent\"><img src=\"https://colab.research.google.com/assets/colab-badge.svg\" alt=\"Open In Colab\"/></a>"
      ]
    },
    {
      "cell_type": "markdown",
      "source": [
        "\n",
        "#Talentpitch data engineer trials"
      ],
      "metadata": {
        "id": "0EhPAzMcw5QQ"
      }
    },
    {
      "cell_type": "markdown",
      "source": [
        "Tools preparation"
      ],
      "metadata": {
        "id": "__wUbWw9xTFR"
      }
    },
    {
      "cell_type": "code",
      "execution_count": 92,
      "metadata": {
        "colab": {
          "base_uri": "https://localhost:8080/"
        },
        "id": "bmaZowpzmICh",
        "outputId": "d198acbe-e3a6-4fde-aefc-03373c5b6271"
      },
      "outputs": [
        {
          "output_type": "stream",
          "name": "stdout",
          "text": [
            "Requirement already satisfied: pyspark in /usr/local/lib/python3.10/dist-packages (3.5.3)\n",
            "Requirement already satisfied: py4j==0.10.9.7 in /usr/local/lib/python3.10/dist-packages (from pyspark) (0.10.9.7)\n"
          ]
        }
      ],
      "source": [
        "#install pyspark\n",
        "!pip install pyspark\n"
      ]
    },
    {
      "cell_type": "code",
      "source": [
        "#create a folder to allocate the csv files\n",
        "!mkdir talentpitch\n"
      ],
      "metadata": {
        "id": "5cbEqeSTp07e",
        "colab": {
          "base_uri": "https://localhost:8080/"
        },
        "outputId": "be90ea32-0818-4e37-ee27-446f5c86aff7"
      },
      "execution_count": 93,
      "outputs": [
        {
          "output_type": "stream",
          "name": "stdout",
          "text": [
            "mkdir: cannot create directory ‘talentpitch’: File exists\n"
          ]
        }
      ]
    },
    {
      "cell_type": "code",
      "source": [
        "#make a copy of the file to clean\n",
        "!cp /content/talentpitch/\"challenges - challenges.csv\" ./talentpitch/challenges.csv"
      ],
      "metadata": {
        "id": "Vpb5qr-j2OT0"
      },
      "execution_count": 94,
      "outputs": []
    },
    {
      "cell_type": "markdown",
      "source": [
        "#Data Cleansing Process"
      ],
      "metadata": {
        "id": "LEpXemNOxyb7"
      }
    },
    {
      "cell_type": "code",
      "source": [
        "#import regular expressions library to solve text anomalies in the challenges file\n",
        "import re\n",
        "\n",
        "#build a function to clean the whole data wrongly classified rows in the csv format\n",
        "def challenges_cleansing(file_path):\n",
        "  with open(file_path, 'r') as f:\n",
        "    lines = f.readlines()\n",
        "    new_lines = []\n",
        "    flag=-1\n",
        "    for i in range(len(lines)):\n",
        "      if flag==i:\n",
        "        continue\n",
        "      elif lines[i][1].isnumeric() and lines[i][0]=='\"' and lines[i+1][0]=='\"' and not lines[i+1][1].isnumeric():\n",
        "        new_line = lines[i][1:-3]+lines[i+1][1:-2]+'\\n'\n",
        "        new_line=re.sub('\"\"','\"',new_line)\n",
        "        flag=i+1\n",
        "        new_lines.append(new_line)\n",
        "        continue\n",
        "      elif lines[i]!=lines[0] and lines[i][0]=='\"' and lines[i][1].isnumeric():\n",
        "        new_line = lines[i][1:]\n",
        "        new_line = new_line[:-2]\n",
        "        new_line=re.sub('\"\"','\"',new_line)\n",
        "        new_line=new_line+'\\n'\n",
        "      else:\n",
        "        new_line = lines[i]\n",
        "        new_line=re.sub('\"\"','\"',new_line)\n",
        "      new_lines.append(new_line)\n",
        "    lines=new_lines\n",
        "  return lines\n",
        "\n",
        "#build a function to delete the file\n",
        "def clear_file_contents(file_path):\n",
        "  with open(file_path, 'w') as f:\n",
        "    f.truncate(0)\n"
      ],
      "metadata": {
        "id": "AtJl6sfd0_dn"
      },
      "execution_count": 95,
      "outputs": []
    },
    {
      "cell_type": "code",
      "source": [
        "#use functions to clean the rows in the challenges file\n",
        "file_path = \"talentpitch/challenges.csv\"\n",
        "new_lines = challenges_cleansing(file_path)\n",
        "\n",
        "#cleat the original file to replace with the cleaned one\n",
        "clear_file_contents(\"talentpitch/challenges - challenges.csv\")\n",
        "with open(\"talentpitch/challenges - challenges.csv\", \"w\") as f:\n",
        "  for line in new_lines:\n",
        "    f.write(line)"
      ],
      "metadata": {
        "id": "Kt8fbn3jm1u0"
      },
      "execution_count": 96,
      "outputs": []
    },
    {
      "cell_type": "markdown",
      "source": [
        "Data Validation"
      ],
      "metadata": {
        "id": "PreTojwg35OR"
      }
    },
    {
      "cell_type": "code",
      "source": [
        "#import pandas library to validate the csv files format\n",
        "import pandas as pd\n",
        "#read each file\n",
        "df_chall=pd.read_csv(\"talentpitch/challenges - challenges.csv\")\n",
        "df_prof=pd.read_csv(\"talentpitch/profiles - Hoja 1.csv\")\n",
        "df_resum=pd.read_csv(\"talentpitch/resumes - resumes.csv\")\n",
        "df_user=pd.read_csv(\"talentpitch/users - users.csv\")"
      ],
      "metadata": {
        "id": "bOg5Rv0d0yZ2"
      },
      "execution_count": 97,
      "outputs": []
    },
    {
      "cell_type": "code",
      "source": [
        "#preview each file to see their fields\n",
        "df_user"
      ],
      "metadata": {
        "id": "Gg1yMOmv6P1l",
        "colab": {
          "base_uri": "https://localhost:8080/",
          "height": 539
        },
        "outputId": "45c01da6-eed5-4879-b7af-21f23e9a653c"
      },
      "execution_count": 98,
      "outputs": [
        {
          "output_type": "execute_result",
          "data": {
            "text/plain": [
              "     id             name  identification_number              slug  \\\n",
              "0   300       Pedro diaz             7769157043         pedr_diaz   \n",
              "1   400      Juan suarez             9393968180   juanjo-suarez-2   \n",
              "2   500        Juan diaz              532041134           jj-diaz   \n",
              "3   600    Pedro jimenez             3379216529     pedro-jime-23   \n",
              "4   700      Lisa Duarte             4969378193          lis-duar   \n",
              "5   800        Juan jose             8368708077    juanjo-munoz-2   \n",
              "6   900      Ana beltran             1230295606      anna-beltran   \n",
              "7  1000      Luisa perez             8410487433  luisita-perez-22   \n",
              "8  2000    Jesus barreto             8751818549       jj-bbarreto   \n",
              "9  3000  Clara benavidez             4076184747        clara-bena   \n",
              "\n",
              "                                               video  \\\n",
              "0  https://media.talentpitch.co/resumes/1/akjdaks...   \n",
              "1  https://media.talentpitch.co/resumes/2/dadkajd...   \n",
              "2  https://media.talentpitch.co/resumes/3/1231283...   \n",
              "3  https://media.talentpitch.co/resumes/4/aws_kaj...   \n",
              "4  https://media.talentpitch.co/resumes/5/aws_123...   \n",
              "5  https://media.talentpitch.co/resumes/6/temp_aw...   \n",
              "6  https://media.talentpitch.co/resumes/7/2213231...   \n",
              "7                                                NaN   \n",
              "8                                                NaN   \n",
              "9                                                NaN   \n",
              "\n",
              "                           email gender  created_at  updated_at  \n",
              "0      james.smith47@example.com      M  2024-02-22  2024-05-22  \n",
              "1     emma.johnson87@example.org      M  2024-02-23  2024-05-23  \n",
              "2   michael.brown123@example.net      M  2024-02-24  2024-05-24  \n",
              "3    sophia.wilson78@example.com    NaN  2024-02-25  2024-05-25  \n",
              "4    william.davis92@example.org      F  2024-02-26  2024-05-26  \n",
              "5  olivia.martinez65@example.net      M  2024-02-27  2024-05-27  \n",
              "6      noah.miller34@example.com      F  2024-02-28  2024-05-28  \n",
              "7        ava.lopez21@example.org      F  2024-02-29  2024-05-29  \n",
              "8    liam.anderson56@example.net      M  2024-03-01  2024-05-30  \n",
              "9   isabella.moore43@example.com      F  2024-03-02  2024-05-31  "
            ],
            "text/html": [
              "\n",
              "  <div id=\"df-937f2cdb-1c18-49b0-a830-f5b9057f080b\" class=\"colab-df-container\">\n",
              "    <div>\n",
              "<style scoped>\n",
              "    .dataframe tbody tr th:only-of-type {\n",
              "        vertical-align: middle;\n",
              "    }\n",
              "\n",
              "    .dataframe tbody tr th {\n",
              "        vertical-align: top;\n",
              "    }\n",
              "\n",
              "    .dataframe thead th {\n",
              "        text-align: right;\n",
              "    }\n",
              "</style>\n",
              "<table border=\"1\" class=\"dataframe\">\n",
              "  <thead>\n",
              "    <tr style=\"text-align: right;\">\n",
              "      <th></th>\n",
              "      <th>id</th>\n",
              "      <th>name</th>\n",
              "      <th>identification_number</th>\n",
              "      <th>slug</th>\n",
              "      <th>video</th>\n",
              "      <th>email</th>\n",
              "      <th>gender</th>\n",
              "      <th>created_at</th>\n",
              "      <th>updated_at</th>\n",
              "    </tr>\n",
              "  </thead>\n",
              "  <tbody>\n",
              "    <tr>\n",
              "      <th>0</th>\n",
              "      <td>300</td>\n",
              "      <td>Pedro diaz</td>\n",
              "      <td>7769157043</td>\n",
              "      <td>pedr_diaz</td>\n",
              "      <td>https://media.talentpitch.co/resumes/1/akjdaks...</td>\n",
              "      <td>james.smith47@example.com</td>\n",
              "      <td>M</td>\n",
              "      <td>2024-02-22</td>\n",
              "      <td>2024-05-22</td>\n",
              "    </tr>\n",
              "    <tr>\n",
              "      <th>1</th>\n",
              "      <td>400</td>\n",
              "      <td>Juan suarez</td>\n",
              "      <td>9393968180</td>\n",
              "      <td>juanjo-suarez-2</td>\n",
              "      <td>https://media.talentpitch.co/resumes/2/dadkajd...</td>\n",
              "      <td>emma.johnson87@example.org</td>\n",
              "      <td>M</td>\n",
              "      <td>2024-02-23</td>\n",
              "      <td>2024-05-23</td>\n",
              "    </tr>\n",
              "    <tr>\n",
              "      <th>2</th>\n",
              "      <td>500</td>\n",
              "      <td>Juan diaz</td>\n",
              "      <td>532041134</td>\n",
              "      <td>jj-diaz</td>\n",
              "      <td>https://media.talentpitch.co/resumes/3/1231283...</td>\n",
              "      <td>michael.brown123@example.net</td>\n",
              "      <td>M</td>\n",
              "      <td>2024-02-24</td>\n",
              "      <td>2024-05-24</td>\n",
              "    </tr>\n",
              "    <tr>\n",
              "      <th>3</th>\n",
              "      <td>600</td>\n",
              "      <td>Pedro jimenez</td>\n",
              "      <td>3379216529</td>\n",
              "      <td>pedro-jime-23</td>\n",
              "      <td>https://media.talentpitch.co/resumes/4/aws_kaj...</td>\n",
              "      <td>sophia.wilson78@example.com</td>\n",
              "      <td>NaN</td>\n",
              "      <td>2024-02-25</td>\n",
              "      <td>2024-05-25</td>\n",
              "    </tr>\n",
              "    <tr>\n",
              "      <th>4</th>\n",
              "      <td>700</td>\n",
              "      <td>Lisa Duarte</td>\n",
              "      <td>4969378193</td>\n",
              "      <td>lis-duar</td>\n",
              "      <td>https://media.talentpitch.co/resumes/5/aws_123...</td>\n",
              "      <td>william.davis92@example.org</td>\n",
              "      <td>F</td>\n",
              "      <td>2024-02-26</td>\n",
              "      <td>2024-05-26</td>\n",
              "    </tr>\n",
              "    <tr>\n",
              "      <th>5</th>\n",
              "      <td>800</td>\n",
              "      <td>Juan jose</td>\n",
              "      <td>8368708077</td>\n",
              "      <td>juanjo-munoz-2</td>\n",
              "      <td>https://media.talentpitch.co/resumes/6/temp_aw...</td>\n",
              "      <td>olivia.martinez65@example.net</td>\n",
              "      <td>M</td>\n",
              "      <td>2024-02-27</td>\n",
              "      <td>2024-05-27</td>\n",
              "    </tr>\n",
              "    <tr>\n",
              "      <th>6</th>\n",
              "      <td>900</td>\n",
              "      <td>Ana beltran</td>\n",
              "      <td>1230295606</td>\n",
              "      <td>anna-beltran</td>\n",
              "      <td>https://media.talentpitch.co/resumes/7/2213231...</td>\n",
              "      <td>noah.miller34@example.com</td>\n",
              "      <td>F</td>\n",
              "      <td>2024-02-28</td>\n",
              "      <td>2024-05-28</td>\n",
              "    </tr>\n",
              "    <tr>\n",
              "      <th>7</th>\n",
              "      <td>1000</td>\n",
              "      <td>Luisa perez</td>\n",
              "      <td>8410487433</td>\n",
              "      <td>luisita-perez-22</td>\n",
              "      <td>NaN</td>\n",
              "      <td>ava.lopez21@example.org</td>\n",
              "      <td>F</td>\n",
              "      <td>2024-02-29</td>\n",
              "      <td>2024-05-29</td>\n",
              "    </tr>\n",
              "    <tr>\n",
              "      <th>8</th>\n",
              "      <td>2000</td>\n",
              "      <td>Jesus barreto</td>\n",
              "      <td>8751818549</td>\n",
              "      <td>jj-bbarreto</td>\n",
              "      <td>NaN</td>\n",
              "      <td>liam.anderson56@example.net</td>\n",
              "      <td>M</td>\n",
              "      <td>2024-03-01</td>\n",
              "      <td>2024-05-30</td>\n",
              "    </tr>\n",
              "    <tr>\n",
              "      <th>9</th>\n",
              "      <td>3000</td>\n",
              "      <td>Clara benavidez</td>\n",
              "      <td>4076184747</td>\n",
              "      <td>clara-bena</td>\n",
              "      <td>NaN</td>\n",
              "      <td>isabella.moore43@example.com</td>\n",
              "      <td>F</td>\n",
              "      <td>2024-03-02</td>\n",
              "      <td>2024-05-31</td>\n",
              "    </tr>\n",
              "  </tbody>\n",
              "</table>\n",
              "</div>\n",
              "    <div class=\"colab-df-buttons\">\n",
              "\n",
              "  <div class=\"colab-df-container\">\n",
              "    <button class=\"colab-df-convert\" onclick=\"convertToInteractive('df-937f2cdb-1c18-49b0-a830-f5b9057f080b')\"\n",
              "            title=\"Convert this dataframe to an interactive table.\"\n",
              "            style=\"display:none;\">\n",
              "\n",
              "  <svg xmlns=\"http://www.w3.org/2000/svg\" height=\"24px\" viewBox=\"0 -960 960 960\">\n",
              "    <path d=\"M120-120v-720h720v720H120Zm60-500h600v-160H180v160Zm220 220h160v-160H400v160Zm0 220h160v-160H400v160ZM180-400h160v-160H180v160Zm440 0h160v-160H620v160ZM180-180h160v-160H180v160Zm440 0h160v-160H620v160Z\"/>\n",
              "  </svg>\n",
              "    </button>\n",
              "\n",
              "  <style>\n",
              "    .colab-df-container {\n",
              "      display:flex;\n",
              "      gap: 12px;\n",
              "    }\n",
              "\n",
              "    .colab-df-convert {\n",
              "      background-color: #E8F0FE;\n",
              "      border: none;\n",
              "      border-radius: 50%;\n",
              "      cursor: pointer;\n",
              "      display: none;\n",
              "      fill: #1967D2;\n",
              "      height: 32px;\n",
              "      padding: 0 0 0 0;\n",
              "      width: 32px;\n",
              "    }\n",
              "\n",
              "    .colab-df-convert:hover {\n",
              "      background-color: #E2EBFA;\n",
              "      box-shadow: 0px 1px 2px rgba(60, 64, 67, 0.3), 0px 1px 3px 1px rgba(60, 64, 67, 0.15);\n",
              "      fill: #174EA6;\n",
              "    }\n",
              "\n",
              "    .colab-df-buttons div {\n",
              "      margin-bottom: 4px;\n",
              "    }\n",
              "\n",
              "    [theme=dark] .colab-df-convert {\n",
              "      background-color: #3B4455;\n",
              "      fill: #D2E3FC;\n",
              "    }\n",
              "\n",
              "    [theme=dark] .colab-df-convert:hover {\n",
              "      background-color: #434B5C;\n",
              "      box-shadow: 0px 1px 3px 1px rgba(0, 0, 0, 0.15);\n",
              "      filter: drop-shadow(0px 1px 2px rgba(0, 0, 0, 0.3));\n",
              "      fill: #FFFFFF;\n",
              "    }\n",
              "  </style>\n",
              "\n",
              "    <script>\n",
              "      const buttonEl =\n",
              "        document.querySelector('#df-937f2cdb-1c18-49b0-a830-f5b9057f080b button.colab-df-convert');\n",
              "      buttonEl.style.display =\n",
              "        google.colab.kernel.accessAllowed ? 'block' : 'none';\n",
              "\n",
              "      async function convertToInteractive(key) {\n",
              "        const element = document.querySelector('#df-937f2cdb-1c18-49b0-a830-f5b9057f080b');\n",
              "        const dataTable =\n",
              "          await google.colab.kernel.invokeFunction('convertToInteractive',\n",
              "                                                    [key], {});\n",
              "        if (!dataTable) return;\n",
              "\n",
              "        const docLinkHtml = 'Like what you see? Visit the ' +\n",
              "          '<a target=\"_blank\" href=https://colab.research.google.com/notebooks/data_table.ipynb>data table notebook</a>'\n",
              "          + ' to learn more about interactive tables.';\n",
              "        element.innerHTML = '';\n",
              "        dataTable['output_type'] = 'display_data';\n",
              "        await google.colab.output.renderOutput(dataTable, element);\n",
              "        const docLink = document.createElement('div');\n",
              "        docLink.innerHTML = docLinkHtml;\n",
              "        element.appendChild(docLink);\n",
              "      }\n",
              "    </script>\n",
              "  </div>\n",
              "\n",
              "\n",
              "<div id=\"df-78cda845-9429-4a27-9472-01e207dc8bcb\">\n",
              "  <button class=\"colab-df-quickchart\" onclick=\"quickchart('df-78cda845-9429-4a27-9472-01e207dc8bcb')\"\n",
              "            title=\"Suggest charts\"\n",
              "            style=\"display:none;\">\n",
              "\n",
              "<svg xmlns=\"http://www.w3.org/2000/svg\" height=\"24px\"viewBox=\"0 0 24 24\"\n",
              "     width=\"24px\">\n",
              "    <g>\n",
              "        <path d=\"M19 3H5c-1.1 0-2 .9-2 2v14c0 1.1.9 2 2 2h14c1.1 0 2-.9 2-2V5c0-1.1-.9-2-2-2zM9 17H7v-7h2v7zm4 0h-2V7h2v10zm4 0h-2v-4h2v4z\"/>\n",
              "    </g>\n",
              "</svg>\n",
              "  </button>\n",
              "\n",
              "<style>\n",
              "  .colab-df-quickchart {\n",
              "      --bg-color: #E8F0FE;\n",
              "      --fill-color: #1967D2;\n",
              "      --hover-bg-color: #E2EBFA;\n",
              "      --hover-fill-color: #174EA6;\n",
              "      --disabled-fill-color: #AAA;\n",
              "      --disabled-bg-color: #DDD;\n",
              "  }\n",
              "\n",
              "  [theme=dark] .colab-df-quickchart {\n",
              "      --bg-color: #3B4455;\n",
              "      --fill-color: #D2E3FC;\n",
              "      --hover-bg-color: #434B5C;\n",
              "      --hover-fill-color: #FFFFFF;\n",
              "      --disabled-bg-color: #3B4455;\n",
              "      --disabled-fill-color: #666;\n",
              "  }\n",
              "\n",
              "  .colab-df-quickchart {\n",
              "    background-color: var(--bg-color);\n",
              "    border: none;\n",
              "    border-radius: 50%;\n",
              "    cursor: pointer;\n",
              "    display: none;\n",
              "    fill: var(--fill-color);\n",
              "    height: 32px;\n",
              "    padding: 0;\n",
              "    width: 32px;\n",
              "  }\n",
              "\n",
              "  .colab-df-quickchart:hover {\n",
              "    background-color: var(--hover-bg-color);\n",
              "    box-shadow: 0 1px 2px rgba(60, 64, 67, 0.3), 0 1px 3px 1px rgba(60, 64, 67, 0.15);\n",
              "    fill: var(--button-hover-fill-color);\n",
              "  }\n",
              "\n",
              "  .colab-df-quickchart-complete:disabled,\n",
              "  .colab-df-quickchart-complete:disabled:hover {\n",
              "    background-color: var(--disabled-bg-color);\n",
              "    fill: var(--disabled-fill-color);\n",
              "    box-shadow: none;\n",
              "  }\n",
              "\n",
              "  .colab-df-spinner {\n",
              "    border: 2px solid var(--fill-color);\n",
              "    border-color: transparent;\n",
              "    border-bottom-color: var(--fill-color);\n",
              "    animation:\n",
              "      spin 1s steps(1) infinite;\n",
              "  }\n",
              "\n",
              "  @keyframes spin {\n",
              "    0% {\n",
              "      border-color: transparent;\n",
              "      border-bottom-color: var(--fill-color);\n",
              "      border-left-color: var(--fill-color);\n",
              "    }\n",
              "    20% {\n",
              "      border-color: transparent;\n",
              "      border-left-color: var(--fill-color);\n",
              "      border-top-color: var(--fill-color);\n",
              "    }\n",
              "    30% {\n",
              "      border-color: transparent;\n",
              "      border-left-color: var(--fill-color);\n",
              "      border-top-color: var(--fill-color);\n",
              "      border-right-color: var(--fill-color);\n",
              "    }\n",
              "    40% {\n",
              "      border-color: transparent;\n",
              "      border-right-color: var(--fill-color);\n",
              "      border-top-color: var(--fill-color);\n",
              "    }\n",
              "    60% {\n",
              "      border-color: transparent;\n",
              "      border-right-color: var(--fill-color);\n",
              "    }\n",
              "    80% {\n",
              "      border-color: transparent;\n",
              "      border-right-color: var(--fill-color);\n",
              "      border-bottom-color: var(--fill-color);\n",
              "    }\n",
              "    90% {\n",
              "      border-color: transparent;\n",
              "      border-bottom-color: var(--fill-color);\n",
              "    }\n",
              "  }\n",
              "</style>\n",
              "\n",
              "  <script>\n",
              "    async function quickchart(key) {\n",
              "      const quickchartButtonEl =\n",
              "        document.querySelector('#' + key + ' button');\n",
              "      quickchartButtonEl.disabled = true;  // To prevent multiple clicks.\n",
              "      quickchartButtonEl.classList.add('colab-df-spinner');\n",
              "      try {\n",
              "        const charts = await google.colab.kernel.invokeFunction(\n",
              "            'suggestCharts', [key], {});\n",
              "      } catch (error) {\n",
              "        console.error('Error during call to suggestCharts:', error);\n",
              "      }\n",
              "      quickchartButtonEl.classList.remove('colab-df-spinner');\n",
              "      quickchartButtonEl.classList.add('colab-df-quickchart-complete');\n",
              "    }\n",
              "    (() => {\n",
              "      let quickchartButtonEl =\n",
              "        document.querySelector('#df-78cda845-9429-4a27-9472-01e207dc8bcb button');\n",
              "      quickchartButtonEl.style.display =\n",
              "        google.colab.kernel.accessAllowed ? 'block' : 'none';\n",
              "    })();\n",
              "  </script>\n",
              "</div>\n",
              "\n",
              "  <div id=\"id_b42d7a19-56a4-4255-a1ae-4f9eb028e039\">\n",
              "    <style>\n",
              "      .colab-df-generate {\n",
              "        background-color: #E8F0FE;\n",
              "        border: none;\n",
              "        border-radius: 50%;\n",
              "        cursor: pointer;\n",
              "        display: none;\n",
              "        fill: #1967D2;\n",
              "        height: 32px;\n",
              "        padding: 0 0 0 0;\n",
              "        width: 32px;\n",
              "      }\n",
              "\n",
              "      .colab-df-generate:hover {\n",
              "        background-color: #E2EBFA;\n",
              "        box-shadow: 0px 1px 2px rgba(60, 64, 67, 0.3), 0px 1px 3px 1px rgba(60, 64, 67, 0.15);\n",
              "        fill: #174EA6;\n",
              "      }\n",
              "\n",
              "      [theme=dark] .colab-df-generate {\n",
              "        background-color: #3B4455;\n",
              "        fill: #D2E3FC;\n",
              "      }\n",
              "\n",
              "      [theme=dark] .colab-df-generate:hover {\n",
              "        background-color: #434B5C;\n",
              "        box-shadow: 0px 1px 3px 1px rgba(0, 0, 0, 0.15);\n",
              "        filter: drop-shadow(0px 1px 2px rgba(0, 0, 0, 0.3));\n",
              "        fill: #FFFFFF;\n",
              "      }\n",
              "    </style>\n",
              "    <button class=\"colab-df-generate\" onclick=\"generateWithVariable('df_user')\"\n",
              "            title=\"Generate code using this dataframe.\"\n",
              "            style=\"display:none;\">\n",
              "\n",
              "  <svg xmlns=\"http://www.w3.org/2000/svg\" height=\"24px\"viewBox=\"0 0 24 24\"\n",
              "       width=\"24px\">\n",
              "    <path d=\"M7,19H8.4L18.45,9,17,7.55,7,17.6ZM5,21V16.75L18.45,3.32a2,2,0,0,1,2.83,0l1.4,1.43a1.91,1.91,0,0,1,.58,1.4,1.91,1.91,0,0,1-.58,1.4L9.25,21ZM18.45,9,17,7.55Zm-12,3A5.31,5.31,0,0,0,4.9,8.1,5.31,5.31,0,0,0,1,6.5,5.31,5.31,0,0,0,4.9,4.9,5.31,5.31,0,0,0,6.5,1,5.31,5.31,0,0,0,8.1,4.9,5.31,5.31,0,0,0,12,6.5,5.46,5.46,0,0,0,6.5,12Z\"/>\n",
              "  </svg>\n",
              "    </button>\n",
              "    <script>\n",
              "      (() => {\n",
              "      const buttonEl =\n",
              "        document.querySelector('#id_b42d7a19-56a4-4255-a1ae-4f9eb028e039 button.colab-df-generate');\n",
              "      buttonEl.style.display =\n",
              "        google.colab.kernel.accessAllowed ? 'block' : 'none';\n",
              "\n",
              "      buttonEl.onclick = () => {\n",
              "        google.colab.notebook.generateWithVariable('df_user');\n",
              "      }\n",
              "      })();\n",
              "    </script>\n",
              "  </div>\n",
              "\n",
              "    </div>\n",
              "  </div>\n"
            ],
            "application/vnd.google.colaboratory.intrinsic+json": {
              "type": "dataframe",
              "variable_name": "df_user",
              "summary": "{\n  \"name\": \"df_user\",\n  \"rows\": 10,\n  \"fields\": [\n    {\n      \"column\": \"id\",\n      \"properties\": {\n        \"dtype\": \"number\",\n        \"std\": 843,\n        \"min\": 300,\n        \"max\": 3000,\n        \"num_unique_values\": 10,\n        \"samples\": [\n          2000,\n          400,\n          800\n        ],\n        \"semantic_type\": \"\",\n        \"description\": \"\"\n      }\n    },\n    {\n      \"column\": \"name\",\n      \"properties\": {\n        \"dtype\": \"string\",\n        \"num_unique_values\": 10,\n        \"samples\": [\n          \"Jesus barreto\",\n          \"Juan suarez\",\n          \"Juan jose\"\n        ],\n        \"semantic_type\": \"\",\n        \"description\": \"\"\n      }\n    },\n    {\n      \"column\": \"identification_number\",\n      \"properties\": {\n        \"dtype\": \"number\",\n        \"std\": 3282113469,\n        \"min\": 532041134,\n        \"max\": 9393968180,\n        \"num_unique_values\": 10,\n        \"samples\": [\n          8751818549,\n          9393968180,\n          8368708077\n        ],\n        \"semantic_type\": \"\",\n        \"description\": \"\"\n      }\n    },\n    {\n      \"column\": \"slug\",\n      \"properties\": {\n        \"dtype\": \"string\",\n        \"num_unique_values\": 10,\n        \"samples\": [\n          \"jj-bbarreto\",\n          \"juanjo-suarez-2\",\n          \"juanjo-munoz-2\"\n        ],\n        \"semantic_type\": \"\",\n        \"description\": \"\"\n      }\n    },\n    {\n      \"column\": \"video\",\n      \"properties\": {\n        \"dtype\": \"string\",\n        \"num_unique_values\": 7,\n        \"samples\": [\n          \"https://media.talentpitch.co/resumes/1/akjdaksdha212312k3hka.mp4\",\n          \"https://media.talentpitch.co/resumes/2/dadkajdakjd.mp4\",\n          \"https://media.talentpitch.co/resumes/6/temp_aws_asdasda.mp4\"\n        ],\n        \"semantic_type\": \"\",\n        \"description\": \"\"\n      }\n    },\n    {\n      \"column\": \"email\",\n      \"properties\": {\n        \"dtype\": \"string\",\n        \"num_unique_values\": 10,\n        \"samples\": [\n          \"liam.anderson56@example.net\",\n          \"emma.johnson87@example.org\",\n          \"olivia.martinez65@example.net\"\n        ],\n        \"semantic_type\": \"\",\n        \"description\": \"\"\n      }\n    },\n    {\n      \"column\": \"gender\",\n      \"properties\": {\n        \"dtype\": \"category\",\n        \"num_unique_values\": 2,\n        \"samples\": [\n          \"F\",\n          \"M\"\n        ],\n        \"semantic_type\": \"\",\n        \"description\": \"\"\n      }\n    },\n    {\n      \"column\": \"created_at\",\n      \"properties\": {\n        \"dtype\": \"object\",\n        \"num_unique_values\": 10,\n        \"samples\": [\n          \"2024-03-01\",\n          \"2024-02-23\"\n        ],\n        \"semantic_type\": \"\",\n        \"description\": \"\"\n      }\n    },\n    {\n      \"column\": \"updated_at\",\n      \"properties\": {\n        \"dtype\": \"object\",\n        \"num_unique_values\": 10,\n        \"samples\": [\n          \"2024-05-30\",\n          \"2024-05-23\"\n        ],\n        \"semantic_type\": \"\",\n        \"description\": \"\"\n      }\n    }\n  ]\n}"
            }
          },
          "metadata": {},
          "execution_count": 98
        }
      ]
    },
    {
      "cell_type": "markdown",
      "source": [
        "#Solve Questions"
      ],
      "metadata": {
        "id": "as8gzetE4khv"
      }
    },
    {
      "cell_type": "code",
      "source": [
        "#import pyspark to create a SQL instance and join the tables\n",
        "from pyspark.sql import SparkSession\n",
        "\n",
        "#Create Spark Session\n",
        "spark = SparkSession.builder.appName(\"Talentpitch\").\\\n",
        "    config(\"spark.sql.catalogImplementation\", \"hive\").\\\n",
        "    enableHiveSupport().getOrCreate()\n",
        "\n",
        "#Load the csv files to the spark session\n",
        "df1 = spark.read.csv(\"talentpitch/challenges - challenges.csv\", header=True, inferSchema=True)\n",
        "df2 = spark.read.csv(\"talentpitch/profiles - Hoja 1.csv\", header=True, inferSchema=True)\n",
        "df3 = spark.read.csv(\"talentpitch/resumes - resumes.csv\", header=True, inferSchema=True)\n",
        "df4 = spark.read.csv(\"talentpitch/users - users.csv\", header=True, inferSchema=True)\n",
        "\n",
        "#Create the temporary tables to make the queries\n",
        "df1.createOrReplaceTempView(\"challenges\")\n",
        "df2.createOrReplaceTempView(\"profiles\")\n",
        "df3.createOrReplaceTempView(\"resumes\")\n",
        "df4.createOrReplaceTempView(\"users\")"
      ],
      "metadata": {
        "id": "gD_ipWQixWAX"
      },
      "execution_count": 99,
      "outputs": []
    },
    {
      "cell_type": "markdown",
      "source": [
        "Number of challenges that was created in the last 3 months, with the objective of every challenge and with status are open, order by the most recent date of creation"
      ],
      "metadata": {
        "id": "yY0PkPwQ8nS2"
      }
    },
    {
      "cell_type": "code",
      "source": [
        "\n",
        "query1=spark.sql(\"\"\" SELECT\n",
        "id\n",
        ",name\n",
        ",description\n",
        ",status\n",
        ",opencall_objective\n",
        ",created_at\n",
        "FROM challenges\n",
        "where 1=1\n",
        "and year(created_at)*100+month(created_at)>=year(current_date())*100+month(current_date())-3\n",
        "and status='open'\n",
        "order by created_at desc\n",
        "--limit 10\n",
        "\"\"\")\n",
        "\n",
        "query1.show()"
      ],
      "metadata": {
        "id": "i0k9CI2bzm12",
        "colab": {
          "base_uri": "https://localhost:8080/"
        },
        "outputId": "4bd6f94a-60b0-4104-8e97-17344f661dad"
      },
      "execution_count": 100,
      "outputs": [
        {
          "output_type": "stream",
          "name": "stdout",
          "text": [
            "+---+--------------------+--------------------+------+------------------+----------+\n",
            "| id|                name|         description|status|opencall_objective|created_at|\n",
            "+---+--------------------+--------------------+------+------------------+----------+\n",
            "|490|Domina el arte de...|¿Sueñas con conve...|  open|         Innovador|2024-07-09|\n",
            "|480|Sé el mejor prese...|¡Domina el arte d...|  open|          Artistas|2024-07-08|\n",
            "+---+--------------------+--------------------+------+------------------+----------+\n",
            "\n"
          ]
        }
      ]
    },
    {
      "cell_type": "markdown",
      "source": [
        "List of users that have his onboarding goal objective (profile table) in \"be_discovered\" and that have a video uploaded in the platform for the last 2 months. Keep in mind that if the user has more than one video in the resumes table you have to choose one option using this rule, the type of video is pitch_video. the video must be a valid\n",
        "url and not null."
      ],
      "metadata": {
        "id": "PkMEaOtZ82DX"
      }
    },
    {
      "cell_type": "code",
      "source": [
        "#import date functions to build the query\n",
        "from pyspark.sql.functions import add_months, current_date\n",
        "\n",
        "query2=spark.sql(\"\"\"\n",
        "select\n",
        "p.user_id\n",
        ",'be_discover' as main_objective\n",
        ",r.video\n",
        ",p.updated_at\n",
        ",max(r.created_at) as created_at\n",
        "from profiles p\n",
        "inner join resumes r\n",
        "on p.user_id=r.user_id\n",
        "where 1=1\n",
        "and p.onboarding_goal like '%be_discovered%'\n",
        "AND p.created_at >= add_months(current_date(), -90)\n",
        "and r.type='pitch_video'\n",
        "and r.video is not null\n",
        "group by\n",
        "p.user_id\n",
        ",r.video\n",
        ",p.updated_at\n",
        "--order by p.created_at desc\n",
        "\n",
        "\"\"\")\n",
        "query2.show()\n"
      ],
      "metadata": {
        "id": "2tHZcyab22hB",
        "colab": {
          "base_uri": "https://localhost:8080/"
        },
        "outputId": "818b591f-cf75-4059-b245-123a2f2f79c4"
      },
      "execution_count": 101,
      "outputs": [
        {
          "output_type": "stream",
          "name": "stdout",
          "text": [
            "+-------+--------------+--------------------+----------+----------+\n",
            "|user_id|main_objective|               video|updated_at|created_at|\n",
            "+-------+--------------+--------------------+----------+----------+\n",
            "|    900|   be_discover|https://media.tal...|2024-04-15|2024-06-12|\n",
            "|   2000|   be_discover|https://media.tal...|2024-04-20|2024-06-15|\n",
            "|    600|   be_discover|https://media.tal...|2024-04-08|2024-06-09|\n",
            "|    700|   be_discover|https://media.tal...|2024-04-09|2024-06-10|\n",
            "|    500|   be_discover|https://media.tal...|2024-04-07|2024-06-08|\n",
            "|    800|   be_discover|https://media.tal...|2024-04-22|2024-06-11|\n",
            "|    400|   be_discover|https://media.tal...|2024-04-06|2024-06-07|\n",
            "|   3000|   be_discover|https://media.tal...|2024-04-19|2024-06-17|\n",
            "+-------+--------------+--------------------+----------+----------+\n",
            "\n"
          ]
        }
      ]
    },
    {
      "cell_type": "markdown",
      "source": [
        "List of top users with highest profile views of their profiles"
      ],
      "metadata": {
        "id": "P8ZfNQts-T8B"
      }
    },
    {
      "cell_type": "code",
      "source": [
        "query3=spark.sql(\"\"\"\n",
        "select\n",
        "p.user_id\n",
        ",u.slug\n",
        ",p.views\n",
        "from profiles p\n",
        "inner join users u\n",
        "on p.user_id=u.id\n",
        "where 1=1\n",
        "order by p.views desc\n",
        "limit 10\n",
        "\n",
        "\"\"\")\n",
        "query3.show()"
      ],
      "metadata": {
        "id": "6qt8YipG47wK",
        "colab": {
          "base_uri": "https://localhost:8080/"
        },
        "outputId": "15deea6c-5b04-45c8-db0c-6fb9b2e714c9"
      },
      "execution_count": 102,
      "outputs": [
        {
          "output_type": "stream",
          "name": "stdout",
          "text": [
            "+-------+----------------+-----+\n",
            "|user_id|            slug|views|\n",
            "+-------+----------------+-----+\n",
            "|    900|    anna-beltran|  200|\n",
            "|    800|  juanjo-munoz-2|  190|\n",
            "|   3000|      clara-bena|   70|\n",
            "|   1000|luisita-perez-22|   59|\n",
            "|    600|   pedro-jime-23|   40|\n",
            "|    500|         jj-diaz|   30|\n",
            "|    700|        lis-duar|   30|\n",
            "|    400| juanjo-suarez-2|   20|\n",
            "|   2000|     jj-bbarreto|    1|\n",
            "+-------+----------------+-----+\n",
            "\n"
          ]
        }
      ]
    },
    {
      "cell_type": "code",
      "source": [],
      "metadata": {
        "id": "f_AtSe047xXE"
      },
      "execution_count": 102,
      "outputs": []
    }
  ]
}